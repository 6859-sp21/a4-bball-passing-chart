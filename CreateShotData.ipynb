{
 "cells": [
  {
   "cell_type": "code",
   "execution_count": 128,
   "metadata": {},
   "outputs": [],
   "source": [
    "import pandas as pd\n",
    "from collections import defaultdict"
   ]
  },
  {
   "cell_type": "code",
   "execution_count": 99,
   "metadata": {},
   "outputs": [],
   "source": [
    "df = pd.read_csv('data/2015_16_FGA.csv')"
   ]
  },
  {
   "cell_type": "code",
   "execution_count": 165,
   "metadata": {},
   "outputs": [],
   "source": [
    "X_RAW_A = -250\n",
    "X_RAW_B = 250\n",
    "X_TRANS_A = 50\n",
    "X_TRANS_B = 0\n",
    "\n",
    "m_x = (X_TRANS_B - X_TRANS_A)/(X_RAW_B - X_RAW_A)\n",
    "\n",
    "Y_RAW_A = 0\n",
    "Y_RAW_B = 20\n",
    "Y_TRANS_A = 5.25\n",
    "Y_TRANS_B = 7.25\n",
    "\n",
    "m_y = (Y_TRANS_B - Y_TRANS_A)/(Y_RAW_B - Y_RAW_A)\n",
    "\n",
    "df['LOC_X_TRANS'] = m_x * (df['LOC_X'] - X_RAW_A) + X_TRANS_A\n",
    "df['LOC_Y_TRANS'] = m_y * (df['LOC_Y'] - Y_RAW_A) + Y_TRANS_A\n",
    "\n",
    "df['X_BIN'] = df['LOC_X_TRANS'] / 2\n",
    "df['X_BIN'] = df['X_BIN'].apply(int)\n",
    "\n",
    "df['Y_BIN'] = df['LOC_Y_TRANS'] / 2\n",
    "df['Y_BIN'] = df['Y_BIN'].apply(int)"
   ]
  },
  {
   "cell_type": "code",
   "execution_count": 171,
   "metadata": {},
   "outputs": [],
   "source": [
    "X_MAX = 25\n",
    "Y_MAX = 47\n",
    "teams = df['TEAM_NAME'].unique()\n",
    "\n",
    "shots_made = {}\n",
    "shots_att = {}\n",
    "shot_pct = {}\n",
    "\n",
    "for i in range(X_MAX):\n",
    "    shots_made[i] = {}\n",
    "    shots_att[i] = {}\n",
    "    shot_pct[i] = {}\n",
    "    \n",
    "    for j in range(Y_MAX):\n",
    "        shots_made[i][j] = {}\n",
    "        shots_att[i][j] = {}\n",
    "        shot_pct[i][j] = {}\n",
    "        \n",
    "        for team in teams:\n",
    "            shots_made[i][j][team] = 0\n",
    "            shots_att[i][j][team] = 0\n",
    "            shot_pct[i][j][team] = None\n",
    "            \n",
    "for _, row in df.iterrows():\n",
    "    X_BIN = min(row['X_BIN'], X_MAX-1)\n",
    "    Y_BIN = min(row['Y_BIN'], Y_MAX-1)\n",
    "    team = row['TEAM_NAME']\n",
    "    \n",
    "    shots_made[X_BIN][Y_BIN][team] += row['SHOT_MADE_FLAG']\n",
    "    shots_att[X_BIN][Y_BIN][team] += row['SHOT_ATTEMPTED_FLAG']"
   ]
  },
  {
   "cell_type": "code",
   "execution_count": 174,
   "metadata": {},
   "outputs": [],
   "source": [
    "for x in shot_pct.keys():\n",
    "    for y in shot_pct[x].keys():\n",
    "        for team in shot_pct[x][y].keys():\n",
    "            if shots_att[x][y][team] != 0:\n",
    "                shot_pct[x][y][team] = float(shots_made[x][y][team]) / shots_att[x][y][team]"
   ]
  },
  {
   "cell_type": "code",
   "execution_count": 179,
   "metadata": {},
   "outputs": [],
   "source": [
    "import json\n",
    "with open('src/shot_pct.json', 'w') as json_file:\n",
    "    json.dump(shot_pct, json_file)"
   ]
  }
 ],
 "metadata": {
  "kernelspec": {
   "display_name": "Python 3",
   "language": "python",
   "name": "python3"
  },
  "language_info": {
   "codemirror_mode": {
    "name": "ipython",
    "version": 3
   },
   "file_extension": ".py",
   "mimetype": "text/x-python",
   "name": "python",
   "nbconvert_exporter": "python",
   "pygments_lexer": "ipython3",
   "version": "3.8.3"
  }
 },
 "nbformat": 4,
 "nbformat_minor": 4
}
